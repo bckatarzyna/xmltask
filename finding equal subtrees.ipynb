{
 "metadata": {
  "name": ""
 },
 "nbformat": 3,
 "nbformat_minor": 0,
 "worksheets": [
  {
   "cells": [
    {
     "cell_type": "code",
     "collapsed": false,
     "input": [
      "import lxml.etree as ET\n",
      "\n",
      "with open('students.xml', 'r') as myfile:\n",
      "    students = myfile.read().replace('\\n', '').replace('\\t', '')\n",
      "\n",
      "# creating element tree   \n",
      "root = ET.fromstring(students)"
     ],
     "language": "python",
     "metadata": {},
     "outputs": [],
     "prompt_number": 185
    },
    {
     "cell_type": "code",
     "collapsed": false,
     "input": [
      "# finding possible paths of tags\n",
      "\n",
      "from xml.etree.ElementTree import XMLParser\n",
      "\n",
      "class StudentsParser:\n",
      "    \n",
      "    paths = set()\n",
      "    path = []\n",
      "    is_last = False\n",
      "    \n",
      "    def start(self, tag, attrib):\n",
      "        self.path.append(tag)\n",
      "        self.is_last = True\n",
      "        return\n",
      "    \n",
      "    def end(self, tag):\n",
      "        if self.is_last:\n",
      "            self.paths.add(tuple(self.path))\n",
      "        self.is_last = False\n",
      "        del self.path[-1]\n",
      "        return\n",
      "    \n",
      "    def data(self, data):\n",
      "        return\n",
      "\n",
      "    def close(self):\n",
      "        return set(self.paths)\n",
      "\n",
      "target = StudentsParser()\n",
      "parser = XMLParser(target=target)\n",
      "parser.feed(students)\n",
      "paths = parser.close()"
     ],
     "language": "python",
     "metadata": {},
     "outputs": [],
     "prompt_number": 186
    },
    {
     "cell_type": "code",
     "collapsed": false,
     "input": [
      "# creating list of possible subpaths\n",
      "\n",
      "def find_subpaths(pahts):\n",
      "    path_list = [list(path) for path in paths]\n",
      "    subpaths = set()\n",
      "    \n",
      "    for path in path_list:\n",
      "        for i in range(2, len(path)):\n",
      "            p = './/'\n",
      "            for j in range(i, 1, -1):\n",
      "                p += path[-j] + '/'\n",
      "            p += path[-1]\n",
      "            subpaths.add(p)\n",
      "            \n",
      "    return list(subpaths)\n",
      "\n",
      "subpaths = find_subpaths(paths)\n",
      "print subpaths"
     ],
     "language": "python",
     "metadata": {},
     "outputs": [
      {
       "output_type": "stream",
       "stream": "stdout",
       "text": [
        "['.//rw/rss/student/name', './/rw/rss/student/contact/mail', './/student/name', './/rw/rss/student/surname', './/student/contact/mail', './/rss/student/name', './/rss/student/contact/phone', './/contact/phone', './/student/surname', './/rss/student/surname', './/contact/mail', './/student/contact/phone', './/rss/student/contact/mail', './/rw/rss/student/contact/phone']\n"
       ]
      }
     ],
     "prompt_number": 187
    },
    {
     "cell_type": "code",
     "collapsed": false,
     "input": [
      "# find deepest equal elements\n",
      "\n",
      "def find_equal_last_elements (path):\n",
      "    elements = root.findall(path)\n",
      "    equal_pairs = []\n",
      "    for elem1 in elements:\n",
      "        for elem2 in elements:\n",
      "            if (elem2, elem1) not in equal_pairs \\\n",
      "                and elem1 != elem2 and elem1.text == elem2.text and elem1.attrib == elem2.attrib:\n",
      "                equal_pairs.append((elem1, elem2))\n",
      "    return equal_pairs"
     ],
     "language": "python",
     "metadata": {},
     "outputs": [],
     "prompt_number": 189
    },
    {
     "cell_type": "code",
     "collapsed": false,
     "input": [
      "# find first element in specific path for given last elem of it\n",
      "\n",
      "def find_max_parent (path, elem):\n",
      "    for i in range(len(path[3:].split('/')) - 2):\n",
      "        elem = elem.getparent()\n",
      "    return elem.getparent()"
     ],
     "language": "python",
     "metadata": {},
     "outputs": [],
     "prompt_number": 190
    },
    {
     "cell_type": "code",
     "collapsed": false,
     "input": [
      "# check equality of trees with roots in elem1 and elem2\n",
      "# (use if you want all attribs and texts to be present and equal)\n",
      "\n",
      "def check_equality (elem1, elem2):\n",
      "    if elem1 == elem2 or elem1.attrib != elem2.attrib or elem1.text != elem2.text:\n",
      "        return False\n",
      "    for child1, child2 in zip(elem1, elem2):\n",
      "        if child1.attrib != child2.attrib or child1.text != child2.text:\n",
      "            return False\n",
      "        check_equality(child1, child2)\n",
      "    return True"
     ],
     "language": "python",
     "metadata": {},
     "outputs": []
    },
    {
     "cell_type": "code",
     "collapsed": false,
     "input": [
      "# check equality of trees with roots in elem1 and elem2\n",
      "# (use if you accept lack of elements or attributes)\n",
      "# used as default in check_equality_by_path\n",
      "\n",
      "def check_equality_with_lacks (elem1, elem2):\n",
      "    if elem1 == elem2 or \\\n",
      "            (elem1.attrib and elem2.attrib and elem1.attrib != elem2.attrib) \\\n",
      "            or (elem1.text and elem2.text and elem1.text != elem2.text):\n",
      "        return False\n",
      "    \n",
      "    children2 = []\n",
      "    for child1 in elem1:\n",
      "        wrong = [item for item in elem2 if (item.tag == child1.tag and \\\n",
      "                                                 (item.attrib != child1.attrib or item.text != child1.text))]\n",
      "        right = [item for item in elem2 if (item.tag == child1.tag and \\\n",
      "                                                 (item.attrib == child1.attrib or item.attrib == {}) and \\\n",
      "                                                 (item.text == child1.text or item.text == ''))]\n",
      "        if len(wrong) and len(right) == 0:\n",
      "            return False\n",
      "        \n",
      "        for cand in right:\n",
      "            if check_equality_with_lacks(child1, cand):\n",
      "                children2.append(cand)\n",
      "        if len(children2) == 0:\n",
      "            return False\n",
      "        \n",
      "    return True"
     ],
     "language": "python",
     "metadata": {},
     "outputs": [],
     "prompt_number": 191
    },
    {
     "cell_type": "code",
     "collapsed": false,
     "input": [
      "# check equality of subtrees of equal deepest elements\n",
      "\n",
      "def check_equality_by_path(path):\n",
      "    pairs = find_equal_last_elements(path)\n",
      "    equal_nodes = set()\n",
      "    for pair in pairs:\n",
      "        elem1, elem2 = pair\n",
      "        parent1 = find_max_parent(path, elem1)\n",
      "        parent2 = find_max_parent(path, elem2)\n",
      "        \n",
      "        # you can also use check_equality function below in case you don't accept lacks of data\n",
      "        if check_equality_with_lacks(parent1, parent2):\n",
      "            equal_nodes.add((parent1, parent2))\n",
      "    \n",
      "    return equal_nodes"
     ],
     "language": "python",
     "metadata": {},
     "outputs": [],
     "prompt_number": 192
    },
    {
     "cell_type": "code",
     "collapsed": false,
     "input": [
      "# finding equal subtrees\n",
      "\n",
      "def find_equal_subtrees ():\n",
      "    subtrees = set()\n",
      "    for path in subpaths:\n",
      "        equal_pairs = check_equality_by_path(path)\n",
      "        for pair in equal_pairs:\n",
      "            subtrees.add(pair)\n",
      "    return subtrees\n",
      "        \n",
      "subtrees = find_equal_subtrees()\n",
      "print subtrees"
     ],
     "language": "python",
     "metadata": {},
     "outputs": [
      {
       "output_type": "stream",
       "stream": "stdout",
       "text": [
        "set([(<Element contact at 0x7f2b123e8830>, <Element contact at 0x7f2b123e85f0>), (<Element student at 0x7f2b123e8758>, <Element student at 0x7f2b123e86c8>), (<Element contact at 0x7f2b123e8878>, <Element contact at 0x7f2b123e87e8>), (<Element student at 0x7f2b123db4d0>, <Element student at 0x7f2b123e8638>)])\n"
       ]
      }
     ],
     "prompt_number": 193
    },
    {
     "cell_type": "code",
     "collapsed": false,
     "input": [
      "# removing subtrees included in another equal subtrees\n",
      "\n",
      "def is_child (parent, elem):\n",
      "    if elem in parent:\n",
      "        return True\n",
      "    else:\n",
      "        for child in parent:\n",
      "                is_child(child, elem)\n",
      "    return False\n",
      "\n",
      "def remove_included_subtrees (subtrees):\n",
      "    toRemove = []\n",
      "    for pair1 in subtrees:\n",
      "        elem11, elem12 = pair1\n",
      "        for pair2 in subtrees:\n",
      "            elem21, elem22 = pair2\n",
      "            if (is_child(elem11, elem21) and is_child(elem12, elem22)) or \\\n",
      "                    (is_child(elem11, elem22) and is_child(elem12, elem21)):\n",
      "                toRemove.append(pair2)\n",
      "    for pair in toRemove:\n",
      "        subtrees.remove(pair)\n",
      "    return subtrees\n",
      "            \n",
      "result = remove_included_subtrees(subtrees)\n",
      "print result"
     ],
     "language": "python",
     "metadata": {},
     "outputs": [
      {
       "output_type": "stream",
       "stream": "stdout",
       "text": [
        "set([(<Element contact at 0x7f2b123e8830>, <Element contact at 0x7f2b123e85f0>), (<Element student at 0x7f2b123e8758>, <Element student at 0x7f2b123e86c8>), (<Element student at 0x7f2b123db4d0>, <Element student at 0x7f2b123e8638>)])\n"
       ]
      }
     ],
     "prompt_number": 194
    },
    {
     "cell_type": "code",
     "collapsed": false,
     "input": [
      "def print_subtree(elem, level):\n",
      "    print '-' * level, elem.tag, elem.attrib, elem.text\n",
      "    level += 1\n",
      "    for child in elem:\n",
      "        print_subtree(child, level)\n",
      "\n",
      "def print_pair(pair):\n",
      "    elem1, elem2 = pair\n",
      "    print elem1\n",
      "    print_subtree(elem1, 0)\n",
      "    print '*****'\n",
      "    print elem2\n",
      "    print_subtree(elem2, 0)\n",
      "    return\n",
      "\n",
      "for pair in result:\n",
      "    print_pair(pair)\n",
      "    print '-------------------------------------'"
     ],
     "language": "python",
     "metadata": {},
     "outputs": [
      {
       "output_type": "stream",
       "stream": "stdout",
       "text": [
        "<Element contact at 0x7f2b123e8830>\n",
        " contact {} None\n",
        "- phone {} 111-456-789\n",
        "- mail {} adam@a.bc\n",
        "*****\n",
        "<Element contact at 0x7f2b123e85f0>\n",
        " contact {} None\n",
        "- phone {} 111-456-789\n",
        "- mail {} adam@a.bc\n",
        "-------------------------------------\n",
        "<Element student at 0x7f2b123e8758>\n",
        " student {'index': '345678'} None\n",
        "- name {} Jan\n",
        "- surname {} Kowalski\n",
        "- contact {} None\n",
        "-- phone {} 123-555-789\n",
        "-- mail {} jan@a.bc\n",
        "*****\n",
        "<Element student at 0x7f2b123e86c8>\n",
        " student {'index': '345678'} None\n",
        "- name {} Jan\n",
        "- surname {} Kowalski\n",
        "- contact {} None\n",
        "-- phone {} 123-555-789\n",
        "-------------------------------------\n",
        "<Element student at 0x7f2b123db4d0>\n",
        " student {} None\n",
        "- name {} Katarzyna\n",
        "- surname {} Nowicka\n",
        "*****\n",
        "<Element student at 0x7f2b123e8638>\n",
        " student {'index': '111535'} None\n",
        "- name {} Katarzyna\n",
        "- surname {} Nowicka\n",
        "- contact {} None\n",
        "-- phone {} 123-456-789\n",
        "-- mail {} a@a.bc\n",
        "-------------------------------------\n"
       ]
      }
     ],
     "prompt_number": 195
    },
    {
     "cell_type": "markdown",
     "metadata": {},
     "source": [
      "Powy\u017cszy kod wychwyci\u0142 dwa podobne drzewa dla Jana Kowalskiego (w jednym z drzew nie by\u0142 podany mail) oraz dwa podobne drzewa dla Katarzyny Nowickiej (w jednym z nich nie by\u0142o numeru indeksu oraz poddrzewa 'contact').\n",
      "Wychwycono r\u00f3wnie\u017c taki sam kontakt studenta, kt\u00f3ry raz mia\u0142 podane nazwisko \"Nowak\", a raz \"Nowakowski\"."
     ]
    },
    {
     "cell_type": "code",
     "collapsed": false,
     "input": [],
     "language": "python",
     "metadata": {},
     "outputs": [],
     "prompt_number": 195
    }
   ],
   "metadata": {}
  }
 ]
}